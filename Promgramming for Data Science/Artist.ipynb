{
 "cells": [
  {
   "cell_type": "code",
   "execution_count": 2,
   "id": "2c37d974-99e3-4c42-9716-fa767f64ffe1",
   "metadata": {},
   "outputs": [
    {
     "data": {
      "text/plain": [
       "\"\\nThis program, written by Keunwoo Kim(F429147), displays a summary table of the input artist by genre and the popularity of the artist's song \\nwith average popularity of the genre for comparison.\\nThe program also visualizes the bar graph that compares the artist's popularity by genre and the average popularity of the genre.\\n\""
      ]
     },
     "execution_count": 2,
     "metadata": {},
     "output_type": "execute_result"
    }
   ],
   "source": [
    "'''\n",
    "This program, written by Keunwoo Kim(F429147), displays a summary table of the input artist by genre and the popularity of the artist's song \n",
    "with average popularity of the genre for comparison.\n",
    "The program also visualizes the bar graph that compares the artist's popularity by genre and the average popularity of the genre.\n",
    "'''"
   ]
  },
  {
   "cell_type": "code",
   "execution_count": 3,
   "id": "60af8048-9a71-4b85-955f-e6ff949c09a2",
   "metadata": {},
   "outputs": [],
   "source": [
    "import pandas as pd\n",
    "import sqlite3\n",
    "import matplotlib.pyplot as plt\n",
    "from IPython.display import clear_output"
   ]
  },
  {
   "cell_type": "code",
   "execution_count": 4,
   "id": "fd2d4061-3161-4210-b1f6-2037d9c62e5f",
   "metadata": {},
   "outputs": [
    {
     "name": "stdout",
     "output_type": "stream",
     "text": [
      "Master_ID  ArtistName       Genre             Popularity\n",
      "1          DMX              hip hop           71            1\n",
      "                            pop               71            1\n",
      "2          Destiny's Child  R&B               70            1\n",
      "                            pop               70            1\n",
      "3          112              R&B               63            1\n",
      "                                                           ..\n",
      "79         Ariana Grande    pop               77            1\n",
      "80         DaBaby           hip hop           72            1\n",
      "81         Billie Eilish    Dance/Electronic  75            1\n",
      "                            pop               75            1\n",
      "82         Sech             latin             71            1\n",
      "Length: 151, dtype: int64\n"
     ]
    }
   ],
   "source": [
    "conn = sqlite3.connect('CWDatabase.db')\n",
    "\n",
    "query = \"SELECT Master_ID, ArtistName, Genre, Popularity, Genre_ID FROM MasterID\"\n",
    "\n",
    "pd.set_option('display.float_format', lambda x: f'{x:.2f}') \n",
    "\n",
    "df = pd.read_sql_query(query, conn)\n",
    "\n",
    "df['Genre'] = df['Genre'].str.split(', ')\n",
    "\n",
    "Genre_exp = df.explode('Genre')\n",
    "\n",
    "df_genre = Genre_exp.groupby(['Master_ID', 'ArtistName', 'Genre', 'Popularity']).size()\n",
    "print(df_genre)"
   ]
  },
  {
   "cell_type": "code",
   "execution_count": 5,
   "id": "4d2e3cea-41b4-47d6-a3c9-c0b7ba52f69f",
   "metadata": {},
   "outputs": [],
   "source": [
    "#df filtering\n",
    "df_genre = df_genre.reset_index()\n",
    "artist_summary = (\n",
    "    df_genre.groupby(['ArtistName', 'Genre'])\n",
    "           .agg(Popularity=('Popularity', 'mean'))\n",
    "            .reset_index()\n",
    ")\n",
    "\n",
    "overall_genre_summary = (\n",
    "        df_genre.groupby('Genre')\n",
    "               .agg(Total_Avg=('Popularity', 'mean'))\n",
    "                .reset_index()\n",
    ")\n"
   ]
  },
  {
   "cell_type": "code",
   "execution_count": 6,
   "id": "7f0a411c-9fac-482f-940a-51e4556ad903",
   "metadata": {},
   "outputs": [],
   "source": [
    "#Function defs\n",
    "def display_line(symbol=\"*\",line_size=10):\n",
    "    line=line_size*symbol\n",
    "    print(line)\n",
    "\n",
    "\n",
    "def display_msg(msg=\"hello\"):\n",
    "    display_line()\n",
    "    print(\"!!!\"+msg+\"!!!\")\n",
    "    display_line()\n",
    "\n",
    "def display_menu():\n",
    "    display_msg(\"Menu\")\n",
    "    print(\"s) Summary by Artist\")\n",
    "    print(\"p) Plot Popularity Comparison\")\n",
    "    print(\"c) Clear Screen\")\n",
    "    print(\"e) Exit Program\")\n",
    "\n",
    "def plot_popularity_comparison():\n",
    "    try:\n",
    "        artist = str(input(\"Enter the Artist: \"))\n",
    "        artist_data = artist_summary[artist_summary['ArtistName'] == artist]\n",
    "        if artist_data.empty:\n",
    "            print(f\"No data available for the Artist {artist}.\")\n",
    "        else:\n",
    "            artist_data = artist_data.merge(\n",
    "                overall_genre_summary,\n",
    "                how=\"left\",\n",
    "                on=\"Genre\"\n",
    "            )\n",
    "            artist_data.plot(\n",
    "                x=\"Genre\",\n",
    "                y=[\"Popularity\", \"Total_Avg\"],\n",
    "                kind=\"bar\",\n",
    "                title=f\"Comparison of {artist}'s Popularity and Overall Popularity by Genre\"\n",
    "            )\n",
    "            plt.xlabel(\"Genre\")\n",
    "            plt.ylabel(\"Popularity\")\n",
    "            plt.legend([\"Artist Popularity\", \"Overall Popularity\"])\n",
    "            plt.show()\n",
    "    except Exception as e:\n",
    "        print(f\"Error occurred: {e}\")\n",
    "\n",
    "\n",
    "def display_summary_by_artist():\n",
    "    try:\n",
    "        artist = input(\"Enter the Artist: \")\n",
    "        artist_data = artist_summary[artist_summary['ArtistName'] == artist]\n",
    "        if artist_data.empty:\n",
    "            print(f\"No data available for the artist {artist}.\")\n",
    "        else:\n",
    "            artist_data = artist_data.merge(\n",
    "                overall_genre_summary,\n",
    "                how=\"left\",\n",
    "                on=\"Genre\"\n",
    "            )\n",
    "            print(f\"Summary for the artist {artist}:\")\n",
    "            print(artist_data)\n",
    "    except Exception as e:\n",
    "        print(f\"Error occurred: {e}\")"
   ]
  },
  {
   "cell_type": "code",
   "execution_count": 7,
   "id": "bba08fa1-77ad-40c2-b3cc-f183ada83f22",
   "metadata": {},
   "outputs": [
    {
     "name": "stdout",
     "output_type": "stream",
     "text": [
      "**********\n",
      "!!!Menu!!!\n",
      "**********\n",
      "s) Summary by Artist\n",
      "p) Plot Popularity Comparison\n",
      "c) Clear Screen\n",
      "e) Exit Program\n"
     ]
    },
    {
     "name": "stdin",
     "output_type": "stream",
     "text": [
      "Please enter your option p\n",
      "Enter the Artist:  DMX\n"
     ]
    },
    {
     "data": {
      "image/png": "[encoded data removed]",
      "text/plain": [
       "<Figure size 640x480 with 1 Axes>"
      ]
     },
     "metadata": {},
     "output_type": "display_data"
    },
    {
     "name": "stdin",
     "output_type": "stream",
     "text": [
      "Please enter your option e\n"
     ]
    },
    {
     "name": "stdout",
     "output_type": "stream",
     "text": [
      "Exiting the program.\n"
     ]
    }
   ],
   "source": [
    "#Meun\n",
    "display_menu()\n",
    "\n",
    "while True: \n",
    "    opt=input(\"Please enter your option\")\n",
    "    if opt== \"s\":\n",
    "        display_summary_by_artist()\n",
    "    elif opt== \"p\":\n",
    "        plot_popularity_comparison()\n",
    "    elif opt==\"c\":\n",
    "        clear_output()\n",
    "        display_menu()\n",
    "    elif opt== \"e\":\n",
    "        print(\"Exiting the program.\")\n",
    "        break\n",
    "    else:\n",
    "        print(\"Invalid option. Please try again.\")"
   ]
  },
  {
   "cell_type": "code",
   "execution_count": null,
   "id": "8d29e1ee-282d-4979-9402-c3ac024bd0ed",
   "metadata": {},
   "outputs": [],
   "source": []
  }
 ],
 "metadata": {
  "kernelspec": {
   "display_name": "Python 3 (ipykernel)",
   "language": "python",
   "name": "python3"
  },
  "language_info": {
   "codemirror_mode": {
    "name": "ipython",
    "version": 3
   },
   "file_extension": ".py",
   "mimetype": "text/x-python",
   "name": "python",
   "nbconvert_exporter": "python",
   "pygments_lexer": "ipython3",
   "version": "3.12.7"
  }
 },
 "nbformat": 4,
 "nbformat_minor": 5
}
